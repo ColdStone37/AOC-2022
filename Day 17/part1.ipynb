{
 "cells": [
  {
   "cell_type": "code",
   "execution_count": 207,
   "id": "c2517765",
   "metadata": {
    "scrolled": false
   },
   "outputs": [],
   "source": [
    "array = []\n",
    "\n",
    "with open(\"input17.txt\", 'r') as file:\n",
    "    array = file.readlines()\n",
    "\n",
    "array[0]=array[0].replace(\"\\n\",\"\")"
   ]
  },
  {
   "cell_type": "code",
   "execution_count": 208,
   "id": "5f318987",
   "metadata": {},
   "outputs": [],
   "source": [
    "rocks=[[[1],[1],[1],[1]],[[0,1,0],[1,1,1],[0,1,0]],[[0,0,1],[0,0,1],[1,1,1]],[[1,1,1,1]],[[1,1],[1,1]]]"
   ]
  },
  {
   "cell_type": "code",
   "execution_count": 209,
   "id": "b9e1b767",
   "metadata": {},
   "outputs": [],
   "source": [
    "def printRock(rock):\n",
    "    for y, xList in enumerate(rock):\n",
    "        for r in xList:\n",
    "            if r==1:\n",
    "                print(\"#\",end=\"\")\n",
    "            else:\n",
    "                print(\" \",end=\"\")\n",
    "        print()"
   ]
  },
  {
   "cell_type": "code",
   "execution_count": 210,
   "id": "c94320fc",
   "metadata": {},
   "outputs": [
    {
     "name": "stdout",
     "output_type": "stream",
     "text": [
      "##\n",
      "##\n"
     ]
    }
   ],
   "source": [
    "printRock(rocks[4])"
   ]
  },
  {
   "cell_type": "code",
   "execution_count": 211,
   "id": "b417a098",
   "metadata": {},
   "outputs": [
    {
     "name": "stdout",
     "output_type": "stream",
     "text": [
      "+.......+\n",
      "+.......+\n",
      "+.......+\n",
      "+.......+\n",
      "+.......+\n",
      "+.......+\n",
      "+++++++++\n"
     ]
    }
   ],
   "source": [
    "caveWidth = 7\n",
    "cave = [[]]\n",
    "\n",
    "for i in range(caveWidth+2):\n",
    "    cave[0].append(2)\n",
    "\n",
    "def addRows(count):\n",
    "    if count >= 0:\n",
    "        for i in range(count):\n",
    "            row = []\n",
    "            row.append(2)\n",
    "            for i in range(caveWidth):\n",
    "                row.append(0)\n",
    "            row.append(2)\n",
    "            cave.insert(0, row)\n",
    "    else:\n",
    "        for i in range(-count):\n",
    "            cave.pop(0)\n",
    "\n",
    "def printCave(cave):\n",
    "    for row in cave:\n",
    "        for pos in row:\n",
    "            if pos == 0:\n",
    "                print(\".\",end=\"\")\n",
    "            elif pos == 1:\n",
    "                print(\"@\",end=\"\")\n",
    "            elif pos == 2:\n",
    "                print(\"+\",end=\"\")\n",
    "        print()\n",
    "\n",
    "addRows(6)\n",
    "printCave(cave)\n",
    "\n",
    "def getHighestPiece(cave):\n",
    "    highest = 0\n",
    "    for y in range(len(cave)-2,-1,-1):\n",
    "        foundPiece = False\n",
    "        for x in range(caveWidth):\n",
    "            if cave[y][x+1] == 2:\n",
    "                foundPiece = True\n",
    "                break\n",
    "        if not foundPiece:\n",
    "            highest = y+1\n",
    "            break\n",
    "    return len(cave)-highest"
   ]
  },
  {
   "cell_type": "code",
   "execution_count": 212,
   "id": "06acc7d5",
   "metadata": {
    "scrolled": false
   },
   "outputs": [
    {
     "name": "stdout",
     "output_type": "stream",
     "text": [
      "100\n",
      "200\n",
      "300\n",
      "400\n",
      "500\n",
      "600\n",
      "700\n",
      "800\n",
      "900\n",
      "1000\n",
      "1100\n",
      "1200\n",
      "1300\n",
      "1400\n",
      "1500\n",
      "1600\n",
      "1700\n",
      "1800\n",
      "1900\n",
      "2000\n",
      "3065\n"
     ]
    }
   ],
   "source": [
    "currentPiece = 0\n",
    "newPiece = True\n",
    "fallenRocks = 0\n",
    "index = 0\n",
    "\n",
    "while fallenRocks < 2022:\n",
    "    if newPiece:\n",
    "        #spawn new piece\n",
    "        highest = 0\n",
    "        for y in range(len(cave)-2,-1,-1):\n",
    "            foundPiece = False\n",
    "            for x in range(caveWidth):\n",
    "                if cave[y][x+1] == 2:\n",
    "                    foundPiece = True\n",
    "                    break\n",
    "            if not foundPiece:\n",
    "                highest = y+1\n",
    "                break\n",
    "        \n",
    "        pieceHeight = len(rocks[currentPiece][0])\n",
    "        addRows(3-highest+pieceHeight)\n",
    "        \n",
    "        for x, column in enumerate(rocks[currentPiece]):\n",
    "            for y, elem in enumerate(column):\n",
    "                if elem == 1:\n",
    "                    cave[y][x+3] = 1\n",
    "        currentPiece = (currentPiece + 1) % 5\n",
    "        newPiece = False\n",
    "    else:\n",
    "        #fall old pieces\n",
    "        canFall = True\n",
    "        for y, row in enumerate(cave[0:-1]):\n",
    "            for x, elem in enumerate(row):\n",
    "                if elem == 1 and cave[y+1][x] == 2:\n",
    "                    canFall = False\n",
    "        if canFall:\n",
    "            for y in reversed(range(len(cave)-1)):\n",
    "                for x, elem in enumerate(row):\n",
    "                    if y == 0:\n",
    "                        if cave[y][x] == 1:\n",
    "                            cave[y][x] = 0\n",
    "                    else:\n",
    "                        if cave[y-1][x] == 1 and cave[y][x] != 1:\n",
    "                            cave[y][x] = 1\n",
    "                        elif cave[y][x] == 1 and cave[y-1][x] != 1:\n",
    "                            cave[y][x] = 0\n",
    "        else:\n",
    "            fallenRocks += 1\n",
    "            if fallenRocks % 100 == 0:\n",
    "                print(fallenRocks)\n",
    "            for y, row in enumerate(cave):\n",
    "                for x, elem in enumerate(row):\n",
    "                    if cave[y][x] == 1:\n",
    "                        cave[y][x] = 2\n",
    "            newPiece = True\n",
    "    #printCave(cave)\n",
    "    if not newPiece:\n",
    "        #wind\n",
    "        Dir = 0\n",
    "        char = array[0][index]\n",
    "        index = (index + 1) % len(array[0])\n",
    "        if char == \"<\":\n",
    "            canMove = True\n",
    "            for x in range(len(cave[0])-1):\n",
    "                for y in range(len(cave)):\n",
    "                    if cave[y][x+1] == 1 and cave[y][x] == 2:\n",
    "                        canMove = False\n",
    "            if canMove:\n",
    "                for x in range(len(cave[0])-1):\n",
    "                    for y in range(len(cave)):\n",
    "                        if cave[y][x+1] == 1 and cave[y][x] != 1:\n",
    "                            cave[y][x] = 1\n",
    "                        elif cave[y][x] == 1 and cave[y][x+1] != 1:\n",
    "                            cave[y][x] = 0\n",
    "        if char == \">\":\n",
    "            canMove = True\n",
    "            for x in range(len(cave[0])-1):\n",
    "                for y in range(len(cave)):\n",
    "                    if cave[y][x] == 1 and cave[y][x+1] == 2:\n",
    "                        canMove = False\n",
    "            if canMove:\n",
    "                for x in reversed(range(len(cave[0])-1)):\n",
    "                    for y in range(len(cave)):\n",
    "                        if cave[y][x+1] != 1 and cave[y][x] == 1:\n",
    "                            cave[y][x+1] = 1\n",
    "                        elif cave[y][x+1] == 1 and cave[y][x] != 1:\n",
    "                            cave[y][x+1] = 0\n",
    "    #printCave(cave)\n",
    "#printCave(cave)\n",
    "print(getHighestPiece(cave)-1)"
   ]
  },
  {
   "cell_type": "code",
   "execution_count": 169,
   "id": "957f4a27",
   "metadata": {},
   "outputs": [
    {
     "name": "stdout",
     "output_type": "stream",
     "text": [
      "3549\n"
     ]
    }
   ],
   "source": [
    "#printCave(cave)\n",
    "def getHighestPiece(cave):\n",
    "    highest = 0\n",
    "    for y in range(len(cave)-2,-1,-1):\n",
    "        foundPiece = False\n",
    "        for x in range(caveWidth):\n",
    "            if cave[y][x+1] == 2:\n",
    "                foundPiece = True\n",
    "                break\n",
    "        if not foundPiece:\n",
    "            highest = y+1\n",
    "            break\n",
    "    return len(cave)-highest\n",
    "print(getHighestPiece(cave))"
   ]
  },
  {
   "cell_type": "code",
   "execution_count": null,
   "id": "9a37dadb",
   "metadata": {},
   "outputs": [],
   "source": []
  }
 ],
 "metadata": {
  "kernelspec": {
   "display_name": "Python 3 (ipykernel)",
   "language": "python",
   "name": "python3"
  },
  "language_info": {
   "codemirror_mode": {
    "name": "ipython",
    "version": 3
   },
   "file_extension": ".py",
   "mimetype": "text/x-python",
   "name": "python",
   "nbconvert_exporter": "python",
   "pygments_lexer": "ipython3",
   "version": "3.10.8"
  }
 },
 "nbformat": 4,
 "nbformat_minor": 5
}
