{
 "cells": [
  {
   "cell_type": "code",
   "execution_count": 1,
   "id": "c2517765",
   "metadata": {},
   "outputs": [],
   "source": [
    "array = []\n",
    "\n",
    "with open(\"input07.txt\", 'r') as file:\n",
    "    array = file.readlines()"
   ]
  },
  {
   "cell_type": "code",
   "execution_count": 2,
   "id": "929f0ed0",
   "metadata": {},
   "outputs": [
    {
     "name": "stdout",
     "output_type": "stream",
     "text": [
      "[['//', '///cdnhnmcb', '///dmccnsqv', 290229, '///gsszlj', '///hmw', '///jhmrn', '///ncb', '///npclt', '///rvvjbz'], ['///cdnhnmcb', 170937, 281758, 109017, 295735], ['///dmccnsqv', 273438, '///dmccnsqv/jtntzqfd', '///dmccnsqv/tqmbq', 211769, 205895], ['///dmccnsqv/jtntzqfd', 4635], ['///dmccnsqv/tqmbq', '///dmccnsqv/tqmbq/bnvspstf', 22264, '///dmccnsqv/tqmbq/hwv', 200690, '///dmccnsqv/tqmbq/npclt', 243708, 157861], ['///dmccnsqv/tqmbq/bnvspstf', 46133, 289236], ['///dmccnsqv/tqmbq/hwv', '///dmccnsqv/tqmbq/hwv/tsrqvpbq'], ['///dmccnsqv/tqmbq/hwv/tsrqvpbq', 292872], ['///dmccnsqv/tqmbq/npclt', 191646, 26548, 214302, 74637], ['///gsszlj', '///gsszlj/bjvqcfwc', '///gsszlj/dfzhdhs', 179837, 112354, 175236, '///gsszlj/mfnllhfw', '///gsszlj/nwvcgb', '///gsszlj/rvvjbz', '///gsszlj/vcvmq'], ['///gsszlj/bjvqcfwc', 125387], ['///gsszlj/dfzhdhs', 218291, '///gsszlj/dfzhdhs/jsmjbfg', '///gsszlj/dfzhdhs/rvvjbz', 272548, 196309], ['///gsszlj/dfzhdhs/jsmjbfg', 72259, 242641, 109294, 149525], ['///gsszlj/dfzhdhs/rvvjbz', 175613], ['///gsszlj/mfnllhfw', 119986, '///gsszlj/mfnllhfw/gwjgjljj', 157962, '///gsszlj/mfnllhfw/mwttp', 30246, 197554, 288875], ['///gsszlj/mfnllhfw/gwjgjljj', 237890, '///gsszlj/mfnllhfw/gwjgjljj/ncjzqll', 10935], ['///gsszlj/mfnllhfw/gwjgjljj/ncjzqll', 152092], ['///gsszlj/mfnllhfw/mwttp', 217929], ['///gsszlj/nwvcgb', 131410, '///gsszlj/nwvcgb/nqrdmvjm', 82487, '///gsszlj/nwvcgb/tsrqvpbq', 123617], ['///gsszlj/nwvcgb/nqrdmvjm', '///gsszlj/nwvcgb/nqrdmvjm/btjwzz', '///gsszlj/nwvcgb/nqrdmvjm/dsm', '///gsszlj/nwvcgb/nqrdmvjm/fcrsj', 141465, 133916], ['///gsszlj/nwvcgb/nqrdmvjm/btjwzz', '///gsszlj/nwvcgb/nqrdmvjm/btjwzz/nqrdmvjm', '///gsszlj/nwvcgb/nqrdmvjm/btjwzz/tsrqvpbq', 150003], ['///gsszlj/nwvcgb/nqrdmvjm/btjwzz/nqrdmvjm', '///gsszlj/nwvcgb/nqrdmvjm/btjwzz/nqrdmvjm/dsm', 160109, 33187, '///gsszlj/nwvcgb/nqrdmvjm/btjwzz/nqrdmvjm/pbgdcwd', 167821], ['///gsszlj/nwvcgb/nqrdmvjm/btjwzz/nqrdmvjm/dsm', 84979, '///gsszlj/nwvcgb/nqrdmvjm/btjwzz/nqrdmvjm/dsm/rvvjbz'], ['///gsszlj/nwvcgb/nqrdmvjm/btjwzz/nqrdmvjm/dsm/rvvjbz', 189309], ['///gsszlj/nwvcgb/nqrdmvjm/btjwzz/nqrdmvjm/pbgdcwd', 240743], ['///gsszlj/nwvcgb/nqrdmvjm/btjwzz/tsrqvpbq', 284223, 188341, 271396], ['///gsszlj/nwvcgb/nqrdmvjm/dsm', 128966], ['///gsszlj/nwvcgb/nqrdmvjm/fcrsj', 261786], ['///gsszlj/nwvcgb/tsrqvpbq', 57089, 208087], ['///gsszlj/rvvjbz', '///gsszlj/rvvjbz/ldglv'], ['///gsszlj/rvvjbz/ldglv', 39389], ['///gsszlj/vcvmq', '///gsszlj/vcvmq/jzgd', 246541, 169613, 264902, '///gsszlj/vcvmq/pwzbvvwz', 82651, 223282, '///gsszlj/vcvmq/wnb'], ['///gsszlj/vcvmq/jzgd', 91717, 69771], ['///gsszlj/vcvmq/pwzbvvwz', '///gsszlj/vcvmq/pwzbvvwz/cdmfv', '///gsszlj/vcvmq/pwzbvvwz/fvqjbd', '///gsszlj/vcvmq/pwzbvvwz/nhvhhs', '///gsszlj/vcvmq/pwzbvvwz/npclt', '///gsszlj/vcvmq/pwzbvvwz/rgdb'], ['///gsszlj/vcvmq/pwzbvvwz/cdmfv', 172054], ['///gsszlj/vcvmq/pwzbvvwz/fvqjbd', 212067, '///gsszlj/vcvmq/pwzbvvwz/fvqjbd/tcjsbn'], ['///gsszlj/vcvmq/pwzbvvwz/fvqjbd/tcjsbn', 40576, 13447], ['///gsszlj/vcvmq/pwzbvvwz/nhvhhs', 92810], ['///gsszlj/vcvmq/pwzbvvwz/npclt', '///gsszlj/vcvmq/pwzbvvwz/npclt/dcs', '///gsszlj/vcvmq/pwzbvvwz/npclt/tsrqvpbq'], ['///gsszlj/vcvmq/pwzbvvwz/npclt/dcs', 274856], ['///gsszlj/vcvmq/pwzbvvwz/npclt/tsrqvpbq', 144678, '///gsszlj/vcvmq/pwzbvvwz/npclt/tsrqvpbq/nqrdmvjm', 163728], ['///gsszlj/vcvmq/pwzbvvwz/npclt/tsrqvpbq/nqrdmvjm', 122069, 105752, 149744, 126434], ['///gsszlj/vcvmq/pwzbvvwz/rgdb', 75645, '///gsszlj/vcvmq/pwzbvvwz/rgdb/clz', '///gsszlj/vcvmq/pwzbvvwz/rgdb/ddmbzz', '///gsszlj/vcvmq/pwzbvvwz/rgdb/hrl', 280472, 217770, '///gsszlj/vcvmq/pwzbvvwz/rgdb/qjcrf'], ['///gsszlj/vcvmq/pwzbvvwz/rgdb/clz', '///gsszlj/vcvmq/pwzbvvwz/rgdb/clz/fshcptjq', 125496, 291857, 78923], ['///gsszlj/vcvmq/pwzbvvwz/rgdb/clz/fshcptjq', 157704, 66314, 225592], ['///gsszlj/vcvmq/pwzbvvwz/rgdb/ddmbzz', 217731, 16389, 256395, 233481, '///gsszlj/vcvmq/pwzbvvwz/rgdb/ddmbzz/rvvjbz', '///gsszlj/vcvmq/pwzbvvwz/rgdb/ddmbzz/zgc'], ['///gsszlj/vcvmq/pwzbvvwz/rgdb/ddmbzz/rvvjbz', '///gsszlj/vcvmq/pwzbvvwz/rgdb/ddmbzz/rvvjbz/zrwtdlzz'], ['///gsszlj/vcvmq/pwzbvvwz/rgdb/ddmbzz/rvvjbz/zrwtdlzz', 21488], ['///gsszlj/vcvmq/pwzbvvwz/rgdb/ddmbzz/zgc', 222107, 35382], ['///gsszlj/vcvmq/pwzbvvwz/rgdb/hrl', '///gsszlj/vcvmq/pwzbvvwz/rgdb/hrl/rvvjbz'], ['///gsszlj/vcvmq/pwzbvvwz/rgdb/hrl/rvvjbz', 65335], ['///gsszlj/vcvmq/pwzbvvwz/rgdb/qjcrf', '///gsszlj/vcvmq/pwzbvvwz/rgdb/qjcrf/fjrdgbwh'], ['///gsszlj/vcvmq/pwzbvvwz/rgdb/qjcrf/fjrdgbwh', 143960], ['///gsszlj/vcvmq/wnb', 66543, '///gsszlj/vcvmq/wnb/nqrdmvjm', '///gsszlj/vcvmq/wnb/pfwptjtl', 3047], ['///gsszlj/vcvmq/wnb/nqrdmvjm', '///gsszlj/vcvmq/wnb/nqrdmvjm/cqn', '///gsszlj/vcvmq/wnb/nqrdmvjm/mnmbmb', 182573, '///gsszlj/vcvmq/wnb/nqrdmvjm/rvvjbz', 92911], ['///gsszlj/vcvmq/wnb/nqrdmvjm/cqn', 38563, 14353, 52230], ['///gsszlj/vcvmq/wnb/nqrdmvjm/mnmbmb', 212337, 24700, 10243, '///gsszlj/vcvmq/wnb/nqrdmvjm/mnmbmb/nqrdmvjm', 238617], ['///gsszlj/vcvmq/wnb/nqrdmvjm/mnmbmb/nqrdmvjm', 19026], ['///gsszlj/vcvmq/wnb/nqrdmvjm/rvvjbz', 23115, 260656, 113097], ['///gsszlj/vcvmq/wnb/pfwptjtl', 134817, 80522, 254529, 35322], ['///hmw', '///hmw/cfc', '///hmw/cmbtwjqm', '///hmw/dsm', 81077, '///hmw/gzgr', '///hmw/jrdhssrz', '///hmw/npclt', '///hmw/tsrqvpbq', '///hmw/vssgzdw', '///hmw/wngccwdr', 5928, 113540], ['///hmw/cfc', 159334, 212665], ['///hmw/cmbtwjqm', '///hmw/cmbtwjqm/vzftvhhc'], ['///hmw/cmbtwjqm/vzftvhhc', 86763, '///hmw/cmbtwjqm/vzftvhhc/nbj', '///hmw/cmbtwjqm/vzftvhhc/qzbf'], ['///hmw/cmbtwjqm/vzftvhhc/nbj', 63776], ['///hmw/cmbtwjqm/vzftvhhc/qzbf', 189850], ['///hmw/dsm', '///hmw/dsm/bddwfjhv', 258304, 4285, '///hmw/dsm/nqrdmvjm', '///hmw/dsm/rvvjbz', 258902], ['///hmw/dsm/bddwfjhv', 201408], ['///hmw/dsm/nqrdmvjm', 250981], ['///hmw/dsm/rvvjbz', 181444, 146533], ['///hmw/gzgr', '///hmw/gzgr/brmzzz', '///hmw/gzgr/dsm'], ['///hmw/gzgr/brmzzz', 40671], ['///hmw/gzgr/dsm', 53299, '///hmw/gzgr/dsm/npclt', 223542, '///hmw/gzgr/dsm/thjnrtq'], ['///hmw/gzgr/dsm/npclt', 30938, 36847, 159051, 233569, '///hmw/gzgr/dsm/npclt/wwln'], ['///hmw/gzgr/dsm/npclt/wwln', 153489, 196950], ['///hmw/gzgr/dsm/thjnrtq', 30861], ['///hmw/jrdhssrz', 194556, '///hmw/jrdhssrz/gnhc', 148157, '///hmw/jrdhssrz/jcqcjbj', 245407, 248457], ['///hmw/jrdhssrz/gnhc', 183841, 128648, 154895, 193794], ['///hmw/jrdhssrz/jcqcjbj', 266176, '///hmw/jrdhssrz/jcqcjbj/dsm', 195555], ['///hmw/jrdhssrz/jcqcjbj/dsm', 13098, '///hmw/jrdhssrz/jcqcjbj/dsm/grpp', '///hmw/jrdhssrz/jcqcjbj/dsm/nqb'], ['///hmw/jrdhssrz/jcqcjbj/dsm/grpp', 259797, 32317], ['///hmw/jrdhssrz/jcqcjbj/dsm/nqb', 82426], ['///hmw/npclt', '///hmw/npclt/tqzmprzr'], ['///hmw/npclt/tqzmprzr', 278120], ['///hmw/tsrqvpbq', '///hmw/tsrqvpbq/dqbnbl', '///hmw/tsrqvpbq/dsm', '///hmw/tsrqvpbq/lsglr', 213028, 112991], ['///hmw/tsrqvpbq/dqbnbl', '///hmw/tsrqvpbq/dqbnbl/dhzs', 281375, 121452, '///hmw/tsrqvpbq/dqbnbl/mbc', '///hmw/tsrqvpbq/dqbnbl/npclt', 211213, 125518], ['///hmw/tsrqvpbq/dqbnbl/dhzs', 110840, 197645], ['///hmw/tsrqvpbq/dqbnbl/mbc', 224503, '///hmw/tsrqvpbq/dqbnbl/mbc/dzm', 65461, '///hmw/tsrqvpbq/dqbnbl/mbc/nqrdmvjm', 137158, '///hmw/tsrqvpbq/dqbnbl/mbc/rvvjbz', 126868], ['///hmw/tsrqvpbq/dqbnbl/mbc/dzm', 279593, 13111, 205453, 277556, '///hmw/tsrqvpbq/dqbnbl/mbc/dzm/jvd', '///hmw/tsrqvpbq/dqbnbl/mbc/dzm/nqrdmvjm', '///hmw/tsrqvpbq/dqbnbl/mbc/dzm/prqlqh', '///hmw/tsrqvpbq/dqbnbl/mbc/dzm/rhdhhfs', '///hmw/tsrqvpbq/dqbnbl/mbc/dzm/rvvjbz'], ['///hmw/tsrqvpbq/dqbnbl/mbc/dzm/jvd', 76776, 85847], ['///hmw/tsrqvpbq/dqbnbl/mbc/dzm/nqrdmvjm', 40200], ['///hmw/tsrqvpbq/dqbnbl/mbc/dzm/prqlqh', 267371], ['///hmw/tsrqvpbq/dqbnbl/mbc/dzm/rhdhhfs', 51224], ['///hmw/tsrqvpbq/dqbnbl/mbc/dzm/rvvjbz', '///hmw/tsrqvpbq/dqbnbl/mbc/dzm/rvvjbz/npclt', '///hmw/tsrqvpbq/dqbnbl/mbc/dzm/rvvjbz/wdhgmfb', 60599], ['///hmw/tsrqvpbq/dqbnbl/mbc/dzm/rvvjbz/npclt', 138588, 221322, 279540], ['///hmw/tsrqvpbq/dqbnbl/mbc/dzm/rvvjbz/wdhgmfb', 98271], ['///hmw/tsrqvpbq/dqbnbl/mbc/nqrdmvjm', 221950, 7947], ['///hmw/tsrqvpbq/dqbnbl/mbc/rvvjbz', 272797], ['///hmw/tsrqvpbq/dqbnbl/npclt', 294537, 285887, 3041, '///hmw/tsrqvpbq/dqbnbl/npclt/npclt', '///hmw/tsrqvpbq/dqbnbl/npclt/rvvjbz', 235966], ['///hmw/tsrqvpbq/dqbnbl/npclt/npclt', 96669], ['///hmw/tsrqvpbq/dqbnbl/npclt/rvvjbz', 240351, 112539], ['///hmw/tsrqvpbq/dsm', '///hmw/tsrqvpbq/dsm/dpbsq', '///hmw/tsrqvpbq/dsm/lmvjnd', '///hmw/tsrqvpbq/dsm/vjnb'], ['///hmw/tsrqvpbq/dsm/dpbsq', '///hmw/tsrqvpbq/dsm/dpbsq/vczm'], ['///hmw/tsrqvpbq/dsm/dpbsq/vczm', 252709], ['///hmw/tsrqvpbq/dsm/lmvjnd', 20118], ['///hmw/tsrqvpbq/dsm/vjnb', 192558], ['///hmw/tsrqvpbq/lsglr', 222728, 296718], ['///hmw/vssgzdw', '///hmw/vssgzdw/smfhgcv'], ['///hmw/vssgzdw/smfhgcv', 16174, 43403, '///hmw/vssgzdw/smfhgcv/ndh', 52985, 81157, 278111], ['///hmw/vssgzdw/smfhgcv/ndh', 80287], ['///hmw/wngccwdr', 6088], ['///jhmrn', '///jhmrn/qwqhhbth'], ['///jhmrn/qwqhhbth', '///jhmrn/qwqhhbth/ggfmlp', '///jhmrn/qwqhhbth/qgflbldg'], ['///jhmrn/qwqhhbth/ggfmlp', 35739, 38351], ['///jhmrn/qwqhhbth/qgflbldg', '///jhmrn/qwqhhbth/qgflbldg/pbw', '///jhmrn/qwqhhbth/qgflbldg/rvvjbz', '///jhmrn/qwqhhbth/qgflbldg/tqppnqmv'], ['///jhmrn/qwqhhbth/qgflbldg/pbw', '///jhmrn/qwqhhbth/qgflbldg/pbw/nqrdmvjm', 5912], ['///jhmrn/qwqhhbth/qgflbldg/pbw/nqrdmvjm', '///jhmrn/qwqhhbth/qgflbldg/pbw/nqrdmvjm/tnd'], ['///jhmrn/qwqhhbth/qgflbldg/pbw/nqrdmvjm/tnd', '///jhmrn/qwqhhbth/qgflbldg/pbw/nqrdmvjm/tnd/lwsvwsl'], ['///jhmrn/qwqhhbth/qgflbldg/pbw/nqrdmvjm/tnd/lwsvwsl', 150503], ['///jhmrn/qwqhhbth/qgflbldg/rvvjbz', '///jhmrn/qwqhhbth/qgflbldg/rvvjbz/dmrff', '///jhmrn/qwqhhbth/qgflbldg/rvvjbz/ssnbl', '///jhmrn/qwqhhbth/qgflbldg/rvvjbz/zgrgt'], ['///jhmrn/qwqhhbth/qgflbldg/rvvjbz/dmrff', '///jhmrn/qwqhhbth/qgflbldg/rvvjbz/dmrff/vmmzmf'], ['///jhmrn/qwqhhbth/qgflbldg/rvvjbz/dmrff/vmmzmf', 211105], ['///jhmrn/qwqhhbth/qgflbldg/rvvjbz/ssnbl', 246210], ['///jhmrn/qwqhhbth/qgflbldg/rvvjbz/zgrgt', 207409], ['///jhmrn/qwqhhbth/qgflbldg/tqppnqmv', 59007, 123705, 277423, 170157, '///jhmrn/qwqhhbth/qgflbldg/tqppnqmv/ztg'], ['///jhmrn/qwqhhbth/qgflbldg/tqppnqmv/ztg', 8432], ['///ncb', 30859, 74337, '///ncb/lgvwz', 150310], ['///ncb/lgvwz', 105307, 69432, 49765, 214149], ['///npclt', '///npclt/dsm', '///npclt/rvvjbz', '///npclt/trr'], ['///npclt/dsm', '///npclt/dsm/bcccgpl', '///npclt/dsm/cvddqch', 210401, 96482, '///npclt/dsm/nwctzch', 29453], ['///npclt/dsm/bcccgpl', 237918, '///npclt/dsm/bcccgpl/mtrcfbf', '///npclt/dsm/bcccgpl/tgt', '///npclt/dsm/bcccgpl/tsrqvpbq', 99779, 257112], ['///npclt/dsm/bcccgpl/mtrcfbf', '///npclt/dsm/bcccgpl/mtrcfbf/hms', 49756], ['///npclt/dsm/bcccgpl/mtrcfbf/hms', 185755], ['///npclt/dsm/bcccgpl/tgt', '///npclt/dsm/bcccgpl/tgt/dsm', '///npclt/dsm/bcccgpl/tgt/jmfdpdf', 256858], ['///npclt/dsm/bcccgpl/tgt/dsm', 71528], ['///npclt/dsm/bcccgpl/tgt/jmfdpdf', 231263], ['///npclt/dsm/bcccgpl/tsrqvpbq', 218774], ['///npclt/dsm/cvddqch', 144164, '///npclt/dsm/cvddqch/gfszp', 60880, 222198], ['///npclt/dsm/cvddqch/gfszp', 127091], ['///npclt/dsm/nwctzch', 258292], ['///npclt/rvvjbz', '///npclt/rvvjbz/cnv', '///npclt/rvvjbz/dtpswgq', '///npclt/rvvjbz/ggdhw', 97538, 218535, 134022, 51273], ['///npclt/rvvjbz/cnv', 208016], ['///npclt/rvvjbz/dtpswgq', '///npclt/rvvjbz/dtpswgq/jfbgfts'], ['///npclt/rvvjbz/dtpswgq/jfbgfts', 273657, 77349, '///npclt/rvvjbz/dtpswgq/jfbgfts/nqrdmvjm', 208448], ['///npclt/rvvjbz/dtpswgq/jfbgfts/nqrdmvjm', '///npclt/rvvjbz/dtpswgq/jfbgfts/nqrdmvjm/bjdrqnt', '///npclt/rvvjbz/dtpswgq/jfbgfts/nqrdmvjm/msqc', '///npclt/rvvjbz/dtpswgq/jfbgfts/nqrdmvjm/npclt', '///npclt/rvvjbz/dtpswgq/jfbgfts/nqrdmvjm/rsms', '///npclt/rvvjbz/dtpswgq/jfbgfts/nqrdmvjm/vzhdtv'], ['///npclt/rvvjbz/dtpswgq/jfbgfts/nqrdmvjm/bjdrqnt', 103077, 264222], ['///npclt/rvvjbz/dtpswgq/jfbgfts/nqrdmvjm/msqc', 72288], ['///npclt/rvvjbz/dtpswgq/jfbgfts/nqrdmvjm/npclt', '///npclt/rvvjbz/dtpswgq/jfbgfts/nqrdmvjm/npclt/tfbzdm'], ['///npclt/rvvjbz/dtpswgq/jfbgfts/nqrdmvjm/npclt/tfbzdm', '///npclt/rvvjbz/dtpswgq/jfbgfts/nqrdmvjm/npclt/tfbzdm/nqrdmvjm', 35970, 54275, '///npclt/rvvjbz/dtpswgq/jfbgfts/nqrdmvjm/npclt/tfbzdm/wwrsrmn', 179618], ['///npclt/rvvjbz/dtpswgq/jfbgfts/nqrdmvjm/npclt/tfbzdm/nqrdmvjm', '///npclt/rvvjbz/dtpswgq/jfbgfts/nqrdmvjm/npclt/tfbzdm/nqrdmvjm/gljgj'], ['///npclt/rvvjbz/dtpswgq/jfbgfts/nqrdmvjm/npclt/tfbzdm/nqrdmvjm/gljgj', 135000], ['///npclt/rvvjbz/dtpswgq/jfbgfts/nqrdmvjm/npclt/tfbzdm/wwrsrmn', 17120], ['///npclt/rvvjbz/dtpswgq/jfbgfts/nqrdmvjm/rsms', 198169], ['///npclt/rvvjbz/dtpswgq/jfbgfts/nqrdmvjm/vzhdtv', 234619], ['///npclt/rvvjbz/ggdhw', '///npclt/rvvjbz/ggdhw/dsm', '///npclt/rvvjbz/ggdhw/fmljfpfb', '///npclt/rvvjbz/ggdhw/nqrdmvjm', '///npclt/rvvjbz/ggdhw/qrhnjrn', '///npclt/rvvjbz/ggdhw/vpsqmmp'], ['///npclt/rvvjbz/ggdhw/dsm', 185390, 70843, '///npclt/rvvjbz/ggdhw/dsm/zqd'], ['///npclt/rvvjbz/ggdhw/dsm/zqd', 197478, '///npclt/rvvjbz/ggdhw/dsm/zqd/nljssvvw', 228126, '///npclt/rvvjbz/ggdhw/dsm/zqd/wzvvggdp'], ['///npclt/rvvjbz/ggdhw/dsm/zqd/nljssvvw', 248489], ['///npclt/rvvjbz/ggdhw/dsm/zqd/wzvvggdp', 40266], ['///npclt/rvvjbz/ggdhw/fmljfpfb', '///npclt/rvvjbz/ggdhw/fmljfpfb/chc', 232964, 283351], ['///npclt/rvvjbz/ggdhw/fmljfpfb/chc', 273399, 250531, '///npclt/rvvjbz/ggdhw/fmljfpfb/chc/lgqz', 173885, 273356, 7329], ['///npclt/rvvjbz/ggdhw/fmljfpfb/chc/lgqz', 9432], ['///npclt/rvvjbz/ggdhw/nqrdmvjm', 129926], ['///npclt/rvvjbz/ggdhw/qrhnjrn', '///npclt/rvvjbz/ggdhw/qrhnjrn/vnvchpr', '///npclt/rvvjbz/ggdhw/qrhnjrn/zchcq', 271220], ['///npclt/rvvjbz/ggdhw/qrhnjrn/vnvchpr', 257931, 132252], ['///npclt/rvvjbz/ggdhw/qrhnjrn/zchcq', '///npclt/rvvjbz/ggdhw/qrhnjrn/zchcq/hmf', 215104], ['///npclt/rvvjbz/ggdhw/qrhnjrn/zchcq/hmf', 253334], ['///npclt/rvvjbz/ggdhw/vpsqmmp', 32455, 170338], ['///npclt/trr', '///npclt/trr/bfjwfd', '///npclt/trr/bhrvh', '///npclt/trr/ggfc', 187910, '///npclt/trr/mtqftj'], ['///npclt/trr/bfjwfd', '///npclt/trr/bfjwfd/npclt', '///npclt/trr/bfjwfd/wqqfszn'], ['///npclt/trr/bfjwfd/npclt', 269520], ['///npclt/trr/bfjwfd/wqqfszn', 151594], ['///npclt/trr/bhrvh', 251782], ['///npclt/trr/ggfc', 65357, '///npclt/trr/ggfc/jqjtwf'], ['///npclt/trr/ggfc/jqjtwf', 65025], ['///npclt/trr/mtqftj', 294942, 88168], ['///rvvjbz', '///rvvjbz/csfp', 141875, 294580, '///rvvjbz/jqlm', 25928, 224295, 113314], ['///rvvjbz/csfp', 153717], ['///rvvjbz/jqlm', 163455]]\n"
     ]
    }
   ],
   "source": [
    "currentDir = \"\"\n",
    "directories = []\n",
    "append = False\n",
    "\n",
    "for i, line in enumerate(array):\n",
    "    if line[0] == \"$\":\n",
    "        if line[2:4] == \"cd\":\n",
    "            if line[5:-1]==\"..\":\n",
    "                currentDir=currentDir[0:currentDir.rfind(\"/\")]\n",
    "            else:\n",
    "                currentDir+=\"/\"+line[5:-1]\n",
    "            \n",
    "            #print(currentDir)\n",
    "        elif line[2:4] == \"ls\":\n",
    "            dirName = currentDir\n",
    "            doesExist = False\n",
    "            for dir in directories:\n",
    "                if dir[0] == dirName:\n",
    "                    doesExist = True\n",
    "            append = !doesExist\n",
    "            if not doesExist:\n",
    "                directories.append([dirName])\n",
    "    elif append:\n",
    "        if line[0:3] == \"dir\":\n",
    "            directories[-1].append(currentDir+\"/\"+line[4:-1])\n",
    "        else:\n",
    "            split = line.split(\" \")\n",
    "            directories[-1].append(int(split[0]))\n",
    "print(directories) "
   ]
  },
  {
   "cell_type": "code",
   "execution_count": 3,
   "id": "3b6b4762",
   "metadata": {},
   "outputs": [
    {
     "name": "stdout",
     "output_type": "stream",
     "text": [
      "[44795677, 857447, 2455634, 4635, 1759897, 335369, 292872, 292872, 507133, 13877020, 125387, 1436480, 573719, 175613, 1413469, 400917, 152092, 217929, 3038934, 2436244, 1770111, 876148, 274288, 189309, 240743, 743960, 128966, 261786, 265176, 39389, 39389, 7355934, 161488, 4350256, 172054, 266090, 54023, 92810, 1087261, 274856, 812405, 503999, 2732041, 945886, 449610, 1002973, 21488, 21488, 257489, 65335, 65335, 143960, 143960, 1857201, 1282421, 105146, 504923, 19026, 396868, 505190, 13337474, 371999, 340389, 340389, 63776, 189850, 1301857, 201408, 250981, 327977, 1159217, 40671, 1118546, 810844, 350439, 30861, 2347124, 661178, 849369, 387638, 292114, 82426, 278120, 278120, 6780018, 5469168, 308485, 3152135, 2095451, 162623, 40200, 267371, 51224, 798320, 639450, 98271, 229897, 272797, 1268990, 96669, 352890, 465385, 252709, 252709, 20118, 192558, 519446, 552117, 552117, 80287, 6088, 1533953, 1533953, 74090, 1459863, 156415, 150503, 150503, 150503, 664724, 211105, 211105, 246210, 207409, 638724, 8432, 694159, 438653, 10632597, 2757704, 1608743, 235511, 185755, 559649, 71528, 231263, 218774, 554333, 127091, 258292, 6500595, 208016, 1853812, 1853812, 1294358, 367299, 72288, 421983, 421983, 135000, 135000, 17120, 198169, 234619, 3937399, 970592, 714359, 248489, 40266, 1504247, 987932, 9432, 129926, 1129841, 390183, 468438, 253334, 202793, 1374298, 421114, 269520, 151594, 251782, 130382, 65025, 383110, 1117164, 153717, 163455]\n"
     ]
    }
   ],
   "source": [
    "done = False\n",
    "totalSizes = []\n",
    "for dir in directories:\n",
    "    totalSizes.append(-1)\n",
    "while not done:\n",
    "    done = True\n",
    "    for i, dir in enumerate(directories):\n",
    "        size = 0\n",
    "        hasSize = True\n",
    "        if totalSizes[i] != -1:\n",
    "            continue\n",
    "        for j, file in enumerate(dir[1::]):\n",
    "            if type(file) == int:\n",
    "                size += file\n",
    "            else:\n",
    "                for k, dir2 in enumerate(directories):\n",
    "                    if dir2[0] == file:\n",
    "                        if totalSizes[k] != -1:\n",
    "                            directories[i][j+1] = totalSizes[k]\n",
    "                            size += totalSizes[k]\n",
    "                            #print(\"test\",directories[i][j+1])\n",
    "                        else:\n",
    "                            hasSize = False\n",
    "                            done = False\n",
    "                            break\n",
    "        if hasSize:\n",
    "            totalSizes[i] = size\n",
    "    #print(directories, totalSizes)\n",
    "print(totalSizes)"
   ]
  },
  {
   "cell_type": "code",
   "execution_count": 4,
   "id": "d664f8ab",
   "metadata": {},
   "outputs": [
    {
     "name": "stdout",
     "output_type": "stream",
     "text": [
      "1391690\n"
     ]
    }
   ],
   "source": [
    "sum = 0\n",
    "for i, dir in enumerate(directories):\n",
    "    if totalSizes[i] <= 100000:\n",
    "        sum += totalSizes[i]\n",
    "print(sum)"
   ]
  },
  {
   "cell_type": "code",
   "execution_count": null,
   "id": "3e709e13",
   "metadata": {},
   "outputs": [],
   "source": []
  },
  {
   "cell_type": "code",
   "execution_count": null,
   "id": "952088b9",
   "metadata": {},
   "outputs": [],
   "source": []
  },
  {
   "cell_type": "code",
   "execution_count": null,
   "id": "3f8b96ca",
   "metadata": {},
   "outputs": [],
   "source": []
  }
 ],
 "metadata": {
  "kernelspec": {
   "display_name": "Python 3 (ipykernel)",
   "language": "python",
   "name": "python3"
  },
  "language_info": {
   "codemirror_mode": {
    "name": "ipython",
    "version": 3
   },
   "file_extension": ".py",
   "mimetype": "text/x-python",
   "name": "python",
   "nbconvert_exporter": "python",
   "pygments_lexer": "ipython3",
   "version": "3.10.8"
  }
 },
 "nbformat": 4,
 "nbformat_minor": 5
}
