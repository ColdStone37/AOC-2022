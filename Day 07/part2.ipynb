{
 "cells": [
  {
   "cell_type": "code",
   "execution_count": 8,
   "id": "c2517765",
   "metadata": {},
   "outputs": [],
   "source": [
    "array = []\n",
    "\n",
    "with open(\"input.txt\", 'r') as file:\n",
    "    array = file.readlines()"
   ]
  },
  {
   "cell_type": "code",
   "execution_count": 9,
   "id": "929f0ed0",
   "metadata": {},
   "outputs": [
    {
     "name": "stdout",
     "output_type": "stream",
     "text": [
      "[['//', '///cvt', 4967, 5512, '///hvfvt', '///phwgv', 277125, 42131, '///svw', 144372, '///zft'], ['///cvt', '///cvt/bbgsthsd', 146042, '///cvt/chhdjtlw', '///cvt/cpcfcc', '///cvt/dch', '///cvt/djb', '///cvt/djfww', '///cvt/drdf', '///cvt/fgbqtjlj', '///cvt/hjsmmj', 243293, 245795, '///cvt/msptbrl', 181756, 18658, '///cvt/slpc'], ['///cvt/bbgsthsd', 236957, 112286, 106102], ['///cvt/chhdjtlw', 226927, 309815, 117933, '///cvt/chhdjtlw/mbdrgfzs', '///cvt/chhdjtlw/pbmcnpzf', 131558, 298691], ['///cvt/chhdjtlw/mbdrgfzs', 164331], ['///cvt/chhdjtlw/pbmcnpzf', 102120], ['///cvt/cpcfcc', 15756, '///cvt/cpcfcc/dqc', '///cvt/cpcfcc/glm', '///cvt/cpcfcc/jbszm', 200345, 145508, '///cvt/cpcfcc/vcptbw', '///cvt/cpcfcc/zrtm'], ['///cvt/cpcfcc/dqc', '///cvt/cpcfcc/dqc/cpcfcc', 92063, '///cvt/cpcfcc/dqc/qmhnvmh', '///cvt/cpcfcc/dqc/snqqcjlw', 8423], ['///cvt/cpcfcc/dqc/cpcfcc', '///cvt/cpcfcc/dqc/cpcfcc/hvfvt'], ['///cvt/cpcfcc/dqc/cpcfcc/hvfvt', 289372, 307397], ['///cvt/cpcfcc/dqc/qmhnvmh', 274778, 194322], ['///cvt/cpcfcc/dqc/snqqcjlw', 182851], ['///cvt/cpcfcc/glm', 188702], ['///cvt/cpcfcc/jbszm', 187645], ['///cvt/cpcfcc/vcptbw', '///cvt/cpcfcc/vcptbw/mgqd'], ['///cvt/cpcfcc/vcptbw/mgqd', 157695, 268696], ['///cvt/cpcfcc/zrtm', 218820, 172319, 180114, 165216, '///cvt/cpcfcc/zrtm/zft'], ['///cvt/cpcfcc/zrtm/zft', 161245, 249888, 192037], ['///cvt/dch', '///cvt/dch/djfww', '///cvt/dch/fzqgwwnf', '///cvt/dch/hqvmq', '///cvt/dch/mmcrzqc', 42136, '///cvt/dch/vdtlh', '///cvt/dch/wfltm', 271200], ['///cvt/dch/djfww', 37427, 204401, 283140, '///cvt/dch/djfww/lbrhbc', 154148, 53366], ['///cvt/dch/djfww/lbrhbc', '///cvt/dch/djfww/lbrhbc/djfww', 153648, 308911, 219150, 253604, 293759], ['///cvt/dch/djfww/lbrhbc/djfww', 24794], ['///cvt/dch/fzqgwwnf', 233720], ['///cvt/dch/hqvmq', '///cvt/dch/hqvmq/cdld', '///cvt/dch/hqvmq/cpcfcc', '///cvt/dch/hqvmq/djfww', 85564, '///cvt/dch/hqvmq/qnc', 81509], ['///cvt/dch/hqvmq/cdld', 293421], ['///cvt/dch/hqvmq/cpcfcc', 230813, 178203, 186410], ['///cvt/dch/hqvmq/djfww', 201830], ['///cvt/dch/hqvmq/qnc', 305356, '///cvt/dch/hqvmq/qnc/zrtm'], ['///cvt/dch/hqvmq/qnc/zrtm', '///cvt/dch/hqvmq/qnc/zrtm/bdhdrr'], ['///cvt/dch/hqvmq/qnc/zrtm/bdhdrr', '///cvt/dch/hqvmq/qnc/zrtm/bdhdrr/nffdrnb'], ['///cvt/dch/hqvmq/qnc/zrtm/bdhdrr/nffdrnb', 301601], ['///cvt/dch/mmcrzqc', '///cvt/dch/mmcrzqc/cpcfcc', 264271, 208744, 274096], ['///cvt/dch/mmcrzqc/cpcfcc', 226054], ['///cvt/dch/vdtlh', 84229, 58668, 141409, '///cvt/dch/vdtlh/mdgst', 37090, 40357, '///cvt/dch/vdtlh/smr', '///cvt/dch/vdtlh/sqbgcsgh', '///cvt/dch/vdtlh/trp'], ['///cvt/dch/vdtlh/mdgst', 151033], ['///cvt/dch/vdtlh/smr', 140764], ['///cvt/dch/vdtlh/sqbgcsgh', '///cvt/dch/vdtlh/sqbgcsgh/djfww', 263783, 105219, 29647, 162537, 235511, '///cvt/dch/vdtlh/sqbgcsgh/zwddrdfz'], ['///cvt/dch/vdtlh/sqbgcsgh/djfww', 260084], ['///cvt/dch/vdtlh/sqbgcsgh/zwddrdfz', 225632, 269756], ['///cvt/dch/vdtlh/trp', 233192], ['///cvt/dch/wfltm', 140990], ['///cvt/djb', 213191, '///cvt/djb/dhvpqt', '///cvt/djb/gtgftm', '///cvt/djb/hvfvt', 208325, 301446, '///cvt/djb/qnlbgvf', '///cvt/djb/tps', '///cvt/djb/zft', '///cvt/djb/zrtm', '///cvt/djb/zwnlm'], ['///cvt/djb/dhvpqt', '///cvt/djb/dhvpqt/sbcj'], ['///cvt/djb/dhvpqt/sbcj', 20611], ['///cvt/djb/gtgftm', 179526], ['///cvt/djb/hvfvt', '///cvt/djb/hvfvt/djstcnrt', '///cvt/djb/hvfvt/hggpvn', '///cvt/djb/hvfvt/hvfvt', 63889, 265836, 105663, 223582, 26037], ['///cvt/djb/hvfvt/djstcnrt', 201498, 139156, 277342, '///cvt/djb/hvfvt/djstcnrt/rjb', 257294, '///cvt/djb/hvfvt/djstcnrt/tqnbfnt', 313308], ['///cvt/djb/hvfvt/djstcnrt/rjb', 268438, '///cvt/djb/hvfvt/djstcnrt/rjb/hvfvt', '///cvt/djb/hvfvt/djstcnrt/rjb/hvwpb', 161024, 137875, 260008, 283261], ['///cvt/djb/hvfvt/djstcnrt/rjb/hvfvt', '///cvt/djb/hvfvt/djstcnrt/rjb/hvfvt/dvwqqt', 163397, 265154, '///cvt/djb/hvfvt/djstcnrt/rjb/hvfvt/trsh', '///cvt/djb/hvfvt/djstcnrt/rjb/hvfvt/vnf'], ['///cvt/djb/hvfvt/djstcnrt/rjb/hvfvt/dvwqqt', 315187], ['///cvt/djb/hvfvt/djstcnrt/rjb/hvfvt/trsh', '///cvt/djb/hvfvt/djstcnrt/rjb/hvfvt/trsh/ssrdpg'], ['///cvt/djb/hvfvt/djstcnrt/rjb/hvfvt/trsh/ssrdpg', '///cvt/djb/hvfvt/djstcnrt/rjb/hvfvt/trsh/ssrdpg/vjdc'], ['///cvt/djb/hvfvt/djstcnrt/rjb/hvfvt/trsh/ssrdpg/vjdc', '///cvt/djb/hvfvt/djstcnrt/rjb/hvfvt/trsh/ssrdpg/vjdc/srvdrhdq'], ['///cvt/djb/hvfvt/djstcnrt/rjb/hvfvt/trsh/ssrdpg/vjdc/srvdrhdq', 74145], ['///cvt/djb/hvfvt/djstcnrt/rjb/hvfvt/vnf', '///cvt/djb/hvfvt/djstcnrt/rjb/hvfvt/vnf/djfww'], ['///cvt/djb/hvfvt/djstcnrt/rjb/hvfvt/vnf/djfww', 184018], ['///cvt/djb/hvfvt/djstcnrt/rjb/hvwpb', '///cvt/djb/hvfvt/djstcnrt/rjb/hvwpb/jwpjrcvs'], ['///cvt/djb/hvfvt/djstcnrt/rjb/hvwpb/jwpjrcvs', '///cvt/djb/hvfvt/djstcnrt/rjb/hvwpb/jwpjrcvs/cpcfcc'], ['///cvt/djb/hvfvt/djstcnrt/rjb/hvwpb/jwpjrcvs/cpcfcc', 52191], ['///cvt/djb/hvfvt/djstcnrt/tqnbfnt', '///cvt/djb/hvfvt/djstcnrt/tqnbfnt/djfww', 206341, '///cvt/djb/hvfvt/djstcnrt/tqnbfnt/fpsjg', 4589, '///cvt/djb/hvfvt/djstcnrt/tqnbfnt/hvfvt', 8796, 238364, '///cvt/djb/hvfvt/djstcnrt/tqnbfnt/zrtm', 40577], ['///cvt/djb/hvfvt/djstcnrt/tqnbfnt/djfww', 217182], ['///cvt/djb/hvfvt/djstcnrt/tqnbfnt/fpsjg', 52456], ['///cvt/djb/hvfvt/djstcnrt/tqnbfnt/hvfvt', '///cvt/djb/hvfvt/djstcnrt/tqnbfnt/hvfvt/rqhzvb', 275026, '///cvt/djb/hvfvt/djstcnrt/tqnbfnt/hvfvt/zbmtstj'], ['///cvt/djb/hvfvt/djstcnrt/tqnbfnt/hvfvt/rqhzvb', 8395], ['///cvt/djb/hvfvt/djstcnrt/tqnbfnt/hvfvt/zbmtstj', 39691, '///cvt/djb/hvfvt/djstcnrt/tqnbfnt/hvfvt/zbmtstj/qqcdss', 180676], ['///cvt/djb/hvfvt/djstcnrt/tqnbfnt/hvfvt/zbmtstj/qqcdss', 106297], ['///cvt/djb/hvfvt/djstcnrt/tqnbfnt/zrtm', 153478], ['///cvt/djb/hvfvt/hggpvn', 19109, 249168, 207420, 135472], ['///cvt/djb/hvfvt/hvfvt', '///cvt/djb/hvfvt/hvfvt/djfww', 213659, '///cvt/djb/hvfvt/hvfvt/jzdwq', 204021, 185328, '///cvt/djb/hvfvt/hvfvt/zrtm'], ['///cvt/djb/hvfvt/hvfvt/djfww', 180713], ['///cvt/djb/hvfvt/hvfvt/jzdwq', 57424, 104960, 174906], ['///cvt/djb/hvfvt/hvfvt/zrtm', '///cvt/djb/hvfvt/hvfvt/zrtm/mrtvhht'], ['///cvt/djb/hvfvt/hvfvt/zrtm/mrtvhht', 188512], ['///cvt/djb/qnlbgvf', '///cvt/djb/qnlbgvf/fjrhtssv', 46767], ['///cvt/djb/qnlbgvf/fjrhtssv', 198664, 245142], ['///cvt/djb/tps', '///cvt/djb/tps/fmlwghjv', 146731, '///cvt/djb/tps/jjzmdd', '///cvt/djb/tps/rtltrng', 191609], ['///cvt/djb/tps/fmlwghjv', 189227], ['///cvt/djb/tps/jjzmdd', '///cvt/djb/tps/jjzmdd/hvfvt', 178057, 49493, 220129, 231012], ['///cvt/djb/tps/jjzmdd/hvfvt', '///cvt/djb/tps/jjzmdd/hvfvt/lbndbhc', 12602, 746], ['///cvt/djb/tps/jjzmdd/hvfvt/lbndbhc', 49601, 158670], ['///cvt/djb/tps/rtltrng', '///cvt/djb/tps/rtltrng/cpgh', 115613, 59441], ['///cvt/djb/tps/rtltrng/cpgh', '///cvt/djb/tps/rtltrng/cpgh/djfww'], ['///cvt/djb/tps/rtltrng/cpgh/djfww', '///cvt/djb/tps/rtltrng/cpgh/djfww/tgt'], ['///cvt/djb/tps/rtltrng/cpgh/djfww/tgt', '///cvt/djb/tps/rtltrng/cpgh/djfww/tgt/vqwvqss'], ['///cvt/djb/tps/rtltrng/cpgh/djfww/tgt/vqwvqss', '///cvt/djb/tps/rtltrng/cpgh/djfww/tgt/vqwvqss/bsdrhz'], ['///cvt/djb/tps/rtltrng/cpgh/djfww/tgt/vqwvqss/bsdrhz', '///cvt/djb/tps/rtltrng/cpgh/djfww/tgt/vqwvqss/bsdrhz/pld'], ['///cvt/djb/tps/rtltrng/cpgh/djfww/tgt/vqwvqss/bsdrhz/pld', 8543], ['///cvt/djb/zft', '///cvt/djb/zft/fhjgg'], ['///cvt/djb/zft/fhjgg', 114494], ['///cvt/djb/zrtm', 201142, 298232], ['///cvt/djb/zwnlm', 240023, 159126, 22101, '///cvt/djb/zwnlm/ltzl', '///cvt/djb/zwnlm/mtfr', '///cvt/djb/zwnlm/sbw', '///cvt/djb/zwnlm/sqscdjlj', '///cvt/djb/zwnlm/ssf'], ['///cvt/djb/zwnlm/ltzl', 260692, 204540], ['///cvt/djb/zwnlm/mtfr', 15391], ['///cvt/djb/zwnlm/sbw', 293226, 267478, 176349, 286577], ['///cvt/djb/zwnlm/sqscdjlj', 128776, '///cvt/djb/zwnlm/sqscdjlj/qbdpvcbt', 284505], ['///cvt/djb/zwnlm/sqscdjlj/qbdpvcbt', 280709], ['///cvt/djb/zwnlm/ssf', 13328, 19971, '///cvt/djb/zwnlm/ssf/zft'], ['///cvt/djb/zwnlm/ssf/zft', 97761], ['///cvt/djfww', 109590, 297297, 280726], ['///cvt/drdf', 56764, 300547, 210698], ['///cvt/fgbqtjlj', 22217], ['///cvt/hjsmmj', 232911, 164656, '///cvt/hjsmmj/jql', '///cvt/hjsmmj/ntd', '///cvt/hjsmmj/prgm', '///cvt/hjsmmj/psfvhh', '///cvt/hjsmmj/zft'], ['///cvt/hjsmmj/jql', 212767, '///cvt/hjsmmj/jql/zrtm'], ['///cvt/hjsmmj/jql/zrtm', 35950], ['///cvt/hjsmmj/ntd', '///cvt/hjsmmj/ntd/vml'], ['///cvt/hjsmmj/ntd/vml', 60833], ['///cvt/hjsmmj/prgm', 316166], ['///cvt/hjsmmj/psfvhh', 152195, 92448], ['///cvt/hjsmmj/zft', 95808], ['///cvt/msptbrl', 256069], ['///cvt/slpc', '///cvt/slpc/djfww', 285380, 169898, 40914, 188062, '///cvt/slpc/zrtm'], ['///cvt/slpc/djfww', 94935, 70655, 48528], ['///cvt/slpc/zrtm', 160137], ['///hvfvt', '///hvfvt/cslthslv', 129407, '///hvfvt/vrzfbtt'], ['///hvfvt/cslthslv', '///hvfvt/cslthslv/cpcfcc', 158361], ['///hvfvt/cslthslv/cpcfcc', '///hvfvt/cslthslv/cpcfcc/zpgnczq'], ['///hvfvt/cslthslv/cpcfcc/zpgnczq', 158414], ['///hvfvt/vrzfbtt', 185263], ['///phwgv', 253690, '///phwgv/wtbr', 168025, 157840], ['///phwgv/wtbr', '///phwgv/wtbr/lvgdb'], ['///phwgv/wtbr/lvgdb', 177751], ['///svw', '///svw/cpcfcc', 189430, '///svw/ntzbj', 13384, 10333, 161318], ['///svw/cpcfcc', 298999, 290883, '///svw/cpcfcc/qlnntp', '///svw/cpcfcc/vpshs', 5547, '///svw/cpcfcc/zft'], ['///svw/cpcfcc/qlnntp', 168562], ['///svw/cpcfcc/vpshs', 246400], ['///svw/cpcfcc/zft', 235634], ['///svw/ntzbj', 98777], ['///zft', '///zft/dhnzm', 299292, '///zft/ltfb', '///zft/mrvsjgsq', '///zft/ntr', '///zft/swmvhgd', '///zft/zrtm'], ['///zft/dhnzm', 267041], ['///zft/ltfb', 242136, 314862, 203160, 80422, '///zft/ltfb/qftjfqfv', 180815, '///zft/ltfb/wmhm', '///zft/ltfb/zft', '///zft/ltfb/zszp'], ['///zft/ltfb/qftjfqfv', '///zft/ltfb/qftjfqfv/bmmw'], ['///zft/ltfb/qftjfqfv/bmmw', '///zft/ltfb/qftjfqfv/bmmw/hvfvt', 318039, 17057], ['///zft/ltfb/qftjfqfv/bmmw/hvfvt', 170348, 156783], ['///zft/ltfb/wmhm', 178474, '///zft/ltfb/wmhm/cmsgv', '///zft/ltfb/wmhm/dcfvrtj', 225393, '///zft/ltfb/wmhm/hvfvt', '///zft/ltfb/wmhm/nlrs', 273173, 151259, '///zft/ltfb/wmhm/ztqvwjr'], ['///zft/ltfb/wmhm/cmsgv', '///zft/ltfb/wmhm/cmsgv/flgjbjg'], ['///zft/ltfb/wmhm/cmsgv/flgjbjg', 13971, 20601], ['///zft/ltfb/wmhm/dcfvrtj', 141992, 118149, '///zft/ltfb/wmhm/dcfvrtj/qrmqslq'], ['///zft/ltfb/wmhm/dcfvrtj/qrmqslq', 105940], ['///zft/ltfb/wmhm/hvfvt', 181962], ['///zft/ltfb/wmhm/nlrs', 82705], ['///zft/ltfb/wmhm/ztqvwjr', 98257, 83864], ['///zft/ltfb/zft', 183072], ['///zft/ltfb/zszp', '///zft/ltfb/zszp/hvfvt'], ['///zft/ltfb/zszp/hvfvt', '///zft/ltfb/zszp/hvfvt/djfww', '///zft/ltfb/zszp/hvfvt/dqdtgjtg', '///zft/ltfb/zszp/hvfvt/hvfvt'], ['///zft/ltfb/zszp/hvfvt/djfww', 117037, 259243], ['///zft/ltfb/zszp/hvfvt/dqdtgjtg', '///zft/ltfb/zszp/hvfvt/dqdtgjtg/lrbsvng', 59301], ['///zft/ltfb/zszp/hvfvt/dqdtgjtg/lrbsvng', 46301], ['///zft/ltfb/zszp/hvfvt/hvfvt', 223277], ['///zft/mrvsjgsq', 160189, '///zft/mrvsjgsq/lzqf', 232626, '///zft/mrvsjgsq/rpmfcg'], ['///zft/mrvsjgsq/lzqf', 135552, 48083, '///zft/mrvsjgsq/lzqf/rbg', 229086, 204486], ['///zft/mrvsjgsq/lzqf/rbg', '///zft/mrvsjgsq/lzqf/rbg/sjdwsbqq'], ['///zft/mrvsjgsq/lzqf/rbg/sjdwsbqq', 270621], ['///zft/mrvsjgsq/rpmfcg', 227216, '///zft/mrvsjgsq/rpmfcg/zft'], ['///zft/mrvsjgsq/rpmfcg/zft', 43056], ['///zft/ntr', '///zft/ntr/cmtnqb', '///zft/ntr/djfww', 195371], ['///zft/ntr/cmtnqb', 135380], ['///zft/ntr/djfww', '///zft/ntr/djfww/fmvrrrq', '///zft/ntr/djfww/mbhrbss', '///zft/ntr/djfww/zrtm'], ['///zft/ntr/djfww/fmvrrrq', '///zft/ntr/djfww/fmvrrrq/cpcfcc', 79110, 300581], ['///zft/ntr/djfww/fmvrrrq/cpcfcc', 234211], ['///zft/ntr/djfww/mbhrbss', 149184, 185815], ['///zft/ntr/djfww/zrtm', '///zft/ntr/djfww/zrtm/zft'], ['///zft/ntr/djfww/zrtm/zft', 310043], ['///zft/swmvhgd', 77547, 318547, 300962], ['///zft/zrtm', 229319, '///zft/zrtm/djfww', 142526, 232722, 94024, '///zft/zrtm/vhdhn'], ['///zft/zrtm/djfww', 30770], ['///zft/zrtm/vhdhn', '///zft/zrtm/vhdhn/djfww', 48261, '///zft/zrtm/vhdhn/gqc', 316163], ['///zft/zrtm/vhdhn/djfww', 104095, 223454, 24715, 283499, '///zft/zrtm/vhdhn/djfww/zft', 224574], ['///zft/zrtm/vhdhn/djfww/zft', 100941], ['///zft/zrtm/vhdhn/gqc', 156273]]\n"
     ]
    }
   ],
   "source": [
    "currentDir = \"\"\n",
    "directories = []\n",
    "append = False\n",
    "\n",
    "for i, line in enumerate(array):\n",
    "    if line[0] == \"$\":\n",
    "        if line[2:4] == \"cd\":\n",
    "            if line[5:-1]==\"..\":\n",
    "                currentDir=currentDir[0:currentDir.rfind(\"/\")]\n",
    "            else:\n",
    "                currentDir+=\"/\"+line[5:-1]\n",
    "            \n",
    "            #print(currentDir)\n",
    "        elif line[2:4] == \"ls\":\n",
    "            dirName = currentDir\n",
    "            doesExist = False\n",
    "            for dir in directories:\n",
    "                if dir[0] == dirName:\n",
    "                    doesExist = True\n",
    "            append = !doesExist\n",
    "            if not doesExist:\n",
    "                directories.append([dirName])\n",
    "    elif append:\n",
    "        if line[0:3] == \"dir\":\n",
    "            directories[-1].append(currentDir+\"/\"+line[4:-1])\n",
    "        else:\n",
    "            split = line.split(\" \")\n",
    "            directories[-1].append(int(split[0]))\n",
    "print(directories) "
   ]
  },
  {
   "cell_type": "code",
   "execution_count": 12,
   "id": "3b6b4762",
   "metadata": {},
   "outputs": [
    {
     "name": "stdout",
     "output_type": "stream",
     "text": [
      "[46728267, 32283214, 455345, 1351375, 164331, 102120, 3853192, 1349206, 596769, 596769, 469100, 182851, 188702, 187645, 426391, 426391, 1339639, 603170, 7951177, 1986348, 1253866, 24794, 233720, 1864707, 293421, 595426, 201830, 606957, 301601, 301601, 301601, 973165, 226054, 2438911, 151033, 140764, 1552169, 260084, 495388, 233192, 140990, 13880430, 20611, 20611, 179526, 7490863, 4885164, 2164698, 1001901, 315187, 74145, 74145, 74145, 74145, 184018, 184018, 52191, 52191, 52191, 1531868, 217182, 52456, 610085, 8395, 326664, 106297, 153478, 611169, 1309523, 180713, 337290, 188512, 188512, 490573, 443806, 1611474, 189227, 900310, 221619, 208271, 183597, 8543, 8543, 8543, 8543, 8543, 8543, 114494, 114494, 499374, 2750553, 465232, 15391, 1023630, 693990, 280709, 131060, 97761, 687613, 568009, 22217, 1363734, 248717, 35950, 60833, 60833, 316166, 244643, 95808, 256069, 1058509, 214118, 160137, 631445, 316775, 158414, 158414, 185263, 757306, 177751, 177751, 1719267, 1246025, 168562, 246400, 235634, 98777, 10862928, 267041, 4247593, 662227, 662227, 327131, 1675740, 34572, 34572, 366081, 105940, 181962, 82705, 182121, 183072, 705159, 705159, 376280, 105602, 46301, 223277, 1550915, 887828, 270621, 270621, 270272, 43056, 1589695, 135380, 1258944, 613902, 234211, 334999, 310043, 310043, 697056, 2211336, 30770, 1481975, 961278, 100941, 156273]\n"
     ]
    }
   ],
   "source": [
    "done = False\n",
    "totalSizes = []\n",
    "for dir in directories:\n",
    "    totalSizes.append(-1)\n",
    "while not done:\n",
    "    done = True\n",
    "    for i, dir in enumerate(directories):\n",
    "        size = 0\n",
    "        hasSize = True\n",
    "        if totalSizes[i] != -1:\n",
    "            continue\n",
    "        for j, file in enumerate(dir[1::]):\n",
    "            if type(file) == int:\n",
    "                size += file\n",
    "            else:\n",
    "                for k, dir2 in enumerate(directories):\n",
    "                    if dir2[0] == file:\n",
    "                        if totalSizes[k] != -1:\n",
    "                            directories[i][j+1] = totalSizes[k]\n",
    "                            size += totalSizes[k]\n",
    "                            #print(\"test\",directories[i][j+1])\n",
    "                        else:\n",
    "                            hasSize = False\n",
    "                            done = False\n",
    "                            break\n",
    "        if hasSize:\n",
    "            totalSizes[i] = size\n",
    "    #print(directories, totalSizes)\n",
    "print(totalSizes)"
   ]
  },
  {
   "cell_type": "code",
   "execution_count": 13,
   "id": "d664f8ab",
   "metadata": {},
   "outputs": [
    {
     "name": "stdout",
     "output_type": "stream",
     "text": [
      "7490863 6728267 23271733\n"
     ]
    }
   ],
   "source": [
    "total = totalSizes[0]\n",
    "\n",
    "freeSpace = 70000000 - total\n",
    "toFree = 30000000 - freeSpace\n",
    "\n",
    "best = total\n",
    "for size in totalSizes:\n",
    "    if size < best and size >= toFree:\n",
    "        best = size\n",
    "print(best, toFree, freeSpace)"
   ]
  },
  {
   "cell_type": "code",
   "execution_count": null,
   "id": "3e709e13",
   "metadata": {},
   "outputs": [],
   "source": []
  },
  {
   "cell_type": "code",
   "execution_count": null,
   "id": "952088b9",
   "metadata": {},
   "outputs": [],
   "source": []
  },
  {
   "cell_type": "code",
   "execution_count": null,
   "id": "3f8b96ca",
   "metadata": {},
   "outputs": [],
   "source": []
  }
 ],
 "metadata": {
  "kernelspec": {
   "display_name": "Python 3 (ipykernel)",
   "language": "python",
   "name": "python3"
  },
  "language_info": {
   "codemirror_mode": {
    "name": "ipython",
    "version": 3
   },
   "file_extension": ".py",
   "mimetype": "text/x-python",
   "name": "python",
   "nbconvert_exporter": "python",
   "pygments_lexer": "ipython3",
   "version": "3.10.8"
  }
 },
 "nbformat": 4,
 "nbformat_minor": 5
}
