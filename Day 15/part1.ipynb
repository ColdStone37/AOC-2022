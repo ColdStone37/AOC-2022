{
 "cells": [
  {
   "cell_type": "code",
   "execution_count": 26,
   "id": "c2517765",
   "metadata": {
    "scrolled": false
   },
   "outputs": [],
   "source": [
    "array = []\n",
    "\n",
    "with open(\"input15.txt\", 'r') as file:\n",
    "    array = file.readlines()    "
   ]
  },
  {
   "cell_type": "code",
   "execution_count": 27,
   "id": "05e941c6",
   "metadata": {},
   "outputs": [
    {
     "name": "stdout",
     "output_type": "stream",
     "text": [
      "0\n",
      "1\n",
      "2\n",
      "3\n",
      "4\n",
      "5\n",
      "6\n",
      "7\n",
      "8\n",
      "9\n",
      "10\n",
      "11\n",
      "12\n",
      "13\n",
      "14\n",
      "15\n",
      "16\n",
      "17\n",
      "18\n",
      "19\n",
      "20\n",
      "21\n",
      "22\n",
      "4951427\n"
     ]
    }
   ],
   "source": [
    "importantLine = 2000000\n",
    "\n",
    "impossiblePositions = set()\n",
    "\n",
    "for i, line in enumerate(array):\n",
    "    print(i)\n",
    "    splitLine = line.split(\" \")\n",
    "\n",
    "    sensorX = int(splitLine[2].replace(\",\",\"\").split(\"=\")[1])\n",
    "    sensorY = int(splitLine[3].replace(\":\",\"\").split(\"=\")[1])\n",
    "    \n",
    "    beaconX = int(splitLine[8].replace(\",\",\"\").split(\"=\")[1])\n",
    "    beaconY = int(splitLine[9].replace(\"\\n\",\"\").split(\"=\")[1])\n",
    "    \n",
    "    manhattenDist = abs(sensorX - beaconX) + abs(sensorY - beaconY)\n",
    "    \n",
    "    yDiff = abs(importantLine - sensorY)\n",
    "    \n",
    "    if yDiff <= manhattenDist:\n",
    "        for i in range(sensorX - (manhattenDist - yDiff), sensorX + (manhattenDist -yDiff)):\n",
    "            impossiblePositions.add(i)\n",
    "\n",
    "print(len(impossiblePositions))"
   ]
  },
  {
   "cell_type": "code",
   "execution_count": null,
   "id": "5f318987",
   "metadata": {},
   "outputs": [],
   "source": []
  }
 ],
 "metadata": {
  "kernelspec": {
   "display_name": "Python 3 (ipykernel)",
   "language": "python",
   "name": "python3"
  },
  "language_info": {
   "codemirror_mode": {
    "name": "ipython",
    "version": 3
   },
   "file_extension": ".py",
   "mimetype": "text/x-python",
   "name": "python",
   "nbconvert_exporter": "python",
   "pygments_lexer": "ipython3",
   "version": "3.10.8"
  }
 },
 "nbformat": 4,
 "nbformat_minor": 5
}
