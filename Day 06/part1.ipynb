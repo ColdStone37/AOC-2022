{
 "cells": [
  {
   "cell_type": "code",
   "execution_count": 42,
   "id": "c2517765",
   "metadata": {},
   "outputs": [],
   "source": [
    "array = []\n",
    "\n",
    "with open(\"input06.txt\", 'r') as file:\n",
    "    array = file.readlines()"
   ]
  },
  {
   "cell_type": "code",
   "execution_count": 43,
   "id": "929f0ed0",
   "metadata": {},
   "outputs": [
    {
     "name": "stdout",
     "output_type": "stream",
     "text": [
      "4096\n"
     ]
    }
   ],
   "source": [
    "input = array[0]\n",
    "print(len(input))"
   ]
  },
  {
   "cell_type": "code",
   "execution_count": 44,
   "id": "3b6b4762",
   "metadata": {},
   "outputs": [
    {
     "name": "stdout",
     "output_type": "stream",
     "text": [
      "qfmf\n"
     ]
    }
   ],
   "source": [
    "buff=input[0:4]\n",
    "print(buff)"
   ]
  },
  {
   "cell_type": "code",
   "execution_count": 45,
   "id": "a47cd6f7",
   "metadata": {},
   "outputs": [],
   "source": [
    "def hasDoubleCharacters(inStr):\n",
    "    for i, c1 in enumerate(inStr):\n",
    "        for j, c2 in enumerate(inStr):\n",
    "            if i != j and c1 == c2:\n",
    "                return True\n",
    "    return False"
   ]
  },
  {
   "cell_type": "code",
   "execution_count": 46,
   "id": "e1764314",
   "metadata": {},
   "outputs": [
    {
     "name": "stdout",
     "output_type": "stream",
     "text": [
      "1598\n"
     ]
    }
   ],
   "source": [
    "index = 0\n",
    "while(hasDoubleCharacters(buff)):\n",
    "    index+=1\n",
    "    buff = input[index:index+4]\n",
    "print(index+4)"
   ]
  },
  {
   "cell_type": "code",
   "execution_count": null,
   "id": "1edd99e3",
   "metadata": {},
   "outputs": [],
   "source": []
  }
 ],
 "metadata": {
  "kernelspec": {
   "display_name": "Python 3 (ipykernel)",
   "language": "python",
   "name": "python3"
  },
  "language_info": {
   "codemirror_mode": {
    "name": "ipython",
    "version": 3
   },
   "file_extension": ".py",
   "mimetype": "text/x-python",
   "name": "python",
   "nbconvert_exporter": "python",
   "pygments_lexer": "ipython3",
   "version": "3.10.8"
  }
 },
 "nbformat": 4,
 "nbformat_minor": 5
}
