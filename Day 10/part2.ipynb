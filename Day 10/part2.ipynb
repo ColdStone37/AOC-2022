{
 "cells": [
  {
   "cell_type": "code",
   "execution_count": 2,
   "id": "c2517765",
   "metadata": {},
   "outputs": [],
   "source": [
    "array = []\n",
    "\n",
    "with open(\"input.txt\", 'r') as file:\n",
    "    array = file.readlines()"
   ]
  },
  {
   "cell_type": "code",
   "execution_count": 8,
   "id": "d664f8ab",
   "metadata": {},
   "outputs": [
    {
     "name": "stdout",
     "output_type": "stream",
     "text": [
      "\n",
      "####.#..#...##.####.###....##.####.####.\n",
      "...#.#.#.....#.#....#..#....#.#.......#.\n",
      "..#..##......#.###..###.....#.###....#..\n",
      ".#...#.#.....#.#....#..#....#.#.....#...\n",
      "#....#.#..#..#.#....#..#.#..#.#....#....\n",
      "####.#..#..##..#....###...##..#....####.0\n"
     ]
    }
   ],
   "source": [
    "X = 1\n",
    "addNext = 0\n",
    "\n",
    "line = 0\n",
    "cycle = 1\n",
    "CRT_cycle = 0\n",
    "skipNext = False\n",
    "skipNext2 = False\n",
    "\n",
    "total = 0\n",
    "\n",
    "while line < len(array):\n",
    "    #print(cycle, line, array[line].replace(\"\\n\",\"\"), X, skipNext2)\n",
    "    if CRT_cycle % 40 == 0:\n",
    "        print()\n",
    "    \n",
    "    if abs(X - (CRT_cycle % 40))<=1:\n",
    "        print(\"#\", end=\"\")\n",
    "    else:\n",
    "        print(\".\", end=\"\")\n",
    "    \n",
    "    if not skipNext2:\n",
    "        split = array[line].split(\" \")\n",
    "        if split[0] == \"addx\":\n",
    "            addNext = int(split[1])\n",
    "            skipNext = True\n",
    "        line += 1\n",
    "\n",
    "    if skipNext2:\n",
    "        X += addNext\n",
    "        skipNext2 = False\n",
    "    if skipNext:\n",
    "        skipNext2 = True\n",
    "        skipNext = False\n",
    "    \n",
    "    \n",
    "    \n",
    "    cycle += 1\n",
    "    CRT_cycle += 1\n",
    "\n",
    "print(total)"
   ]
  },
  {
   "cell_type": "code",
   "execution_count": 23,
   "id": "3b6b4762",
   "metadata": {},
   "outputs": [
    {
     "name": "stdout",
     "output_type": "stream",
     "text": [
      "6337\n"
     ]
    }
   ],
   "source": []
  }
 ],
 "metadata": {
  "kernelspec": {
   "display_name": "Python 3 (ipykernel)",
   "language": "python",
   "name": "python3"
  },
  "language_info": {
   "codemirror_mode": {
    "name": "ipython",
    "version": 3
   },
   "file_extension": ".py",
   "mimetype": "text/x-python",
   "name": "python",
   "nbconvert_exporter": "python",
   "pygments_lexer": "ipython3",
   "version": "3.10.8"
  }
 },
 "nbformat": 4,
 "nbformat_minor": 5
}
