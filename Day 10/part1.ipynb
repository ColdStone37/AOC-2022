{
 "cells": [
  {
   "cell_type": "code",
   "execution_count": 1,
   "id": "c2517765",
   "metadata": {},
   "outputs": [],
   "source": [
    "array = []\n",
    "\n",
    "with open(\"input10.txt\", 'r') as file:\n",
    "    array = file.readlines()"
   ]
  },
  {
   "cell_type": "code",
   "execution_count": 2,
   "id": "d664f8ab",
   "metadata": {},
   "outputs": [
    {
     "name": "stdout",
     "output_type": "stream",
     "text": [
      "Eval 420 21 20\n",
      "Eval 1260 21 60\n",
      "Eval 2100 21 100\n",
      "Eval 2240 16 140\n",
      "Eval 5040 28 180\n",
      "Eval 4620 21 220\n",
      "15680\n"
     ]
    }
   ],
   "source": [
    "X = 1\n",
    "addNext = 0\n",
    "\n",
    "line = 0\n",
    "cycle = 1\n",
    "skipNext = False\n",
    "skipNext2 = False\n",
    "\n",
    "total = 0\n",
    "\n",
    "while line < len(array):\n",
    "    if not skipNext2:\n",
    "        split = array[line].split(\" \")\n",
    "        if split[0] == \"addx\":\n",
    "            addNext = int(split[1])\n",
    "            skipNext = True\n",
    "        line += 1\n",
    "    \n",
    "    if (cycle+20) % 40 == 0:\n",
    "        print(\"Eval\",X*cycle, X, cycle)\n",
    "        total += X*cycle\n",
    "    \n",
    "    if skipNext2:\n",
    "        X += addNext\n",
    "        skipNext2 = False\n",
    "    if skipNext:\n",
    "        skipNext2 = True\n",
    "        skipNext = False\n",
    "    \n",
    "    cycle += 1\n",
    "\n",
    "print(total)"
   ]
  },
  {
   "cell_type": "code",
   "execution_count": 23,
   "id": "3b6b4762",
   "metadata": {},
   "outputs": [
    {
     "name": "stdout",
     "output_type": "stream",
     "text": [
      "6337\n"
     ]
    }
   ],
   "source": []
  }
 ],
 "metadata": {
  "kernelspec": {
   "display_name": "Python 3 (ipykernel)",
   "language": "python",
   "name": "python3"
  },
  "language_info": {
   "codemirror_mode": {
    "name": "ipython",
    "version": 3
   },
   "file_extension": ".py",
   "mimetype": "text/x-python",
   "name": "python",
   "nbconvert_exporter": "python",
   "pygments_lexer": "ipython3",
   "version": "3.10.8"
  }
 },
 "nbformat": 4,
 "nbformat_minor": 5
}
