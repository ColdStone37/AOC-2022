{
 "cells": [
  {
   "cell_type": "code",
   "execution_count": 13,
   "id": "c2517765",
   "metadata": {},
   "outputs": [],
   "source": [
    "array = []\n",
    "\n",
    "with open(\"input.txt\", 'r') as file:\n",
    "    array = file.readlines()"
   ]
  },
  {
   "cell_type": "code",
   "execution_count": 17,
   "id": "3b6b4762",
   "metadata": {},
   "outputs": [],
   "source": [
    "monkeyItems = []\n",
    "monkeyCommands = []\n",
    "testDivisibleBy = []\n",
    "throwToMonkeyTrue = []\n",
    "throwToMonkeyFalse = []\n",
    "\n",
    "for i, line in enumerate(array):\n",
    "    split = line.replace(\"\\n\",\"\").split(\" \")\n",
    "    if split[0] == \"Monkey\" or len(split) <= 1:\n",
    "        continue\n",
    "    if split[2] == \"Starting\":\n",
    "        items = []\n",
    "        for j in range(4, len(split)):\n",
    "            items.append(int(split[j].replace(\",\",\"\")))\n",
    "        monkeyItems.append(items)\n",
    "    elif split[2] == \"Operation:\":\n",
    "        monkeyCommands.append(line.replace(\"\\n\",\"\")[19:])\n",
    "    elif split[2] == \"Test:\":\n",
    "        testDivisibleBy.append(int(split[5]))\n",
    "    elif split[5] == \"true:\":\n",
    "        throwToMonkeyTrue.append(int(split[9]))\n",
    "    elif split[5] == \"false:\":\n",
    "        throwToMonkeyFalse.append(int(split[9]))"
   ]
  },
  {
   "cell_type": "code",
   "execution_count": 18,
   "id": "46796a44",
   "metadata": {},
   "outputs": [],
   "source": [
    "monkeyInspectCount = []\n",
    "totalDiv = 1\n",
    "for i in range(len(monkeyItems)):\n",
    "    monkeyInspectCount.append(0)\n",
    "    totalDiv *= testDivisibleBy[i]\n",
    "    \n",
    "for i in range(10000):\n",
    "    for monkey in range(len(monkeyItems)):\n",
    "        while len(monkeyItems[monkey]) > 0:\n",
    "            #inspect\n",
    "            monkeyInspectCount[monkey] += 1\n",
    "            old = monkeyItems[monkey][0]\n",
    "            new = eval(monkeyCommands[monkey])\n",
    "            new = new % totalDiv\n",
    "            #throw\n",
    "            if new % testDivisibleBy[monkey] == 0:\n",
    "                monkeyItems[throwToMonkeyTrue[monkey]].append(new)\n",
    "            else:\n",
    "                monkeyItems[throwToMonkeyFalse[monkey]].append(new)\n",
    "            monkeyItems[monkey].pop(0)"
   ]
  },
  {
   "cell_type": "code",
   "execution_count": 19,
   "id": "6107bf36",
   "metadata": {},
   "outputs": [
    {
     "name": "stdout",
     "output_type": "stream",
     "text": [
      "11741456163\n"
     ]
    }
   ],
   "source": [
    "monkeyInspectCount.sort()\n",
    "print(monkeyInspectCount[-1]*monkeyInspectCount[-2])"
   ]
  }
 ],
 "metadata": {
  "kernelspec": {
   "display_name": "Python 3 (ipykernel)",
   "language": "python",
   "name": "python3"
  },
  "language_info": {
   "codemirror_mode": {
    "name": "ipython",
    "version": 3
   },
   "file_extension": ".py",
   "mimetype": "text/x-python",
   "name": "python",
   "nbconvert_exporter": "python",
   "pygments_lexer": "ipython3",
   "version": "3.10.8"
  }
 },
 "nbformat": 4,
 "nbformat_minor": 5
}
