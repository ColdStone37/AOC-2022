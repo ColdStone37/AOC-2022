{
 "cells": [
  {
   "cell_type": "code",
   "execution_count": 61,
   "id": "c2517765",
   "metadata": {},
   "outputs": [],
   "source": [
    "array = []\n",
    "\n",
    "with open(\"input11.txt\", 'r') as file:\n",
    "    array = file.readlines()"
   ]
  },
  {
   "cell_type": "code",
   "execution_count": 62,
   "id": "3b6b4762",
   "metadata": {},
   "outputs": [],
   "source": [
    "monkeyItems = []\n",
    "monkeyCommands = []\n",
    "testDivisibleBy = []\n",
    "throwToMonkeyTrue = []\n",
    "throwToMonkeyFalse = []\n",
    "\n",
    "for i, line in enumerate(array):\n",
    "    split = line.replace(\"\\n\",\"\").split(\" \")\n",
    "    if split[0] == \"Monkey\" or len(split) <= 1:\n",
    "        continue\n",
    "    if split[2] == \"Starting\":\n",
    "        items = []\n",
    "        for j in range(4, len(split)):\n",
    "            items.append(int(split[j].replace(\",\",\"\")))\n",
    "        monkeyItems.append(items)\n",
    "    elif split[2] == \"Operation:\":\n",
    "        monkeyCommands.append(line.replace(\"\\n\",\"\")[19:])\n",
    "    elif split[2] == \"Test:\":\n",
    "        testDivisibleBy.append(int(split[5]))\n",
    "    elif split[5] == \"true:\":\n",
    "        throwToMonkeyTrue.append(int(split[9]))\n",
    "    elif split[5] == \"false:\":\n",
    "        throwToMonkeyFalse.append(int(split[9]))"
   ]
  },
  {
   "cell_type": "code",
   "execution_count": 63,
   "id": "67e2d160",
   "metadata": {},
   "outputs": [],
   "source": [
    "monkeyInspectCount = []\n",
    "for i in range(len(monkeyItems)):\n",
    "    monkeyInspectCount.append(0)\n",
    "\n",
    "for i in range(20):\n",
    "    for monkey in range(len(monkeyItems)):\n",
    "        while len(monkeyItems[monkey]) > 0:\n",
    "            #inspect\n",
    "            monkeyInspectCount[monkey] += 1\n",
    "            old = monkeyItems[monkey][0]\n",
    "            new = eval(monkeyCommands[monkey]) // 3\n",
    "            #throw\n",
    "            if new % testDivisibleBy[monkey] == 0:\n",
    "                monkeyItems[throwToMonkeyTrue[monkey]].append(new)\n",
    "            else:\n",
    "                monkeyItems[throwToMonkeyFalse[monkey]].append(new)\n",
    "            monkeyItems[monkey].pop(0)"
   ]
  },
  {
   "cell_type": "code",
   "execution_count": 64,
   "id": "971a2489",
   "metadata": {},
   "outputs": [
    {
     "name": "stdout",
     "output_type": "stream",
     "text": [
      "119715\n"
     ]
    }
   ],
   "source": [
    "monkeyInspectCount.sort()\n",
    "print(monkeyInspectCount[-1]*monkeyInspectCount[-2])"
   ]
  },
  {
   "cell_type": "code",
   "execution_count": null,
   "id": "b1bd9308",
   "metadata": {},
   "outputs": [],
   "source": []
  }
 ],
 "metadata": {
  "kernelspec": {
   "display_name": "Python 3 (ipykernel)",
   "language": "python",
   "name": "python3"
  },
  "language_info": {
   "codemirror_mode": {
    "name": "ipython",
    "version": 3
   },
   "file_extension": ".py",
   "mimetype": "text/x-python",
   "name": "python",
   "nbconvert_exporter": "python",
   "pygments_lexer": "ipython3",
   "version": "3.10.8"
  }
 },
 "nbformat": 4,
 "nbformat_minor": 5
}
