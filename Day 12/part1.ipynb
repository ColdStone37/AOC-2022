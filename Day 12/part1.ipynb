{
 "cells": [
  {
   "cell_type": "code",
   "execution_count": 1,
   "id": "c2517765",
   "metadata": {},
   "outputs": [],
   "source": [
    "array = []\n",
    "\n",
    "with open(\"input12.txt\", 'r') as file:\n",
    "    array = file.readlines()"
   ]
  },
  {
   "cell_type": "code",
   "execution_count": 2,
   "id": "3b6b4762",
   "metadata": {},
   "outputs": [],
   "source": [
    "start = (0,20)\n",
    "goal = (72,20)"
   ]
  },
  {
   "cell_type": "code",
   "execution_count": 3,
   "id": "8089b810",
   "metadata": {},
   "outputs": [],
   "source": [
    "def hasNeighbor(x,y,array):\n",
    "    if x<0:\n",
    "        return False\n",
    "    if x>len(array[len(array)-1])-1:\n",
    "        return False\n",
    "    if y<0:\n",
    "        return False\n",
    "    if y>len(array)-1:\n",
    "        return False\n",
    "    return True"
   ]
  },
  {
   "cell_type": "code",
   "execution_count": 4,
   "id": "d2081f4b",
   "metadata": {},
   "outputs": [
    {
     "name": "stdout",
     "output_type": "stream",
     "text": [
      "420\n"
     ]
    }
   ],
   "source": [
    "found = False\n",
    "foundSpaces = []\n",
    "steps = []\n",
    "for x in range(len(array)):\n",
    "    f1 = []\n",
    "    f2 = []\n",
    "    for y in range(len(array[len(array)-1])):\n",
    "        f1.append(False)\n",
    "        f2.append(0)\n",
    "    foundSpaces.append(f1)\n",
    "    steps.append(f2)\n",
    "\n",
    "for i, line in enumerate(array):\n",
    "    line=line.replace(\"S\",\"a\")\n",
    "    line=line.replace(\"E\",\"z\")\n",
    "    array[i]=line    \n",
    "\n",
    "foundSpaces[start[1]][start[0]] = True\n",
    "    \n",
    "while not found:\n",
    "    for y in range(len(array)):\n",
    "        for x in range(len(array[len(array)-1])):\n",
    "            if foundSpaces[y][x]:\n",
    "                if hasNeighbor(x-1,y,array):\n",
    "                    if (ord(array[y][x-1]) <= ord(array[y][x])+1) and (foundSpaces[y][x-1] == False or steps[y][x-1] > steps[y][x]+1):\n",
    "                        foundSpaces[y][x-1] = True\n",
    "                        steps[y][x-1] = steps[y][x] + 1\n",
    "                if hasNeighbor(x+1,y,array):\n",
    "                    if ord(array[y][x+1]) <= ord(array[y][x])+1 and (foundSpaces[y][x+1] == False or steps[y][x+1] > steps[y][x]+1):\n",
    "                        foundSpaces[y][x+1] = True\n",
    "                        steps[y][x+1] = steps[y][x] + 1\n",
    "                if hasNeighbor(x,y-1,array):\n",
    "                    if ord(array[y-1][x]) <= ord(array[y][x])+1 and (foundSpaces[y-1][x] == False or steps[y-1][x] > steps[y][x]+1):\n",
    "                        foundSpaces[y-1][x] = True\n",
    "                        steps[y-1][x] = steps[y][x] + 1\n",
    "                if hasNeighbor(x,y+1,array):\n",
    "                    if ord(array[y+1][x]) <= ord(array[y][x])+1 and (foundSpaces[y+1][x] == False or steps[y+1][x] > steps[y][x]+1):\n",
    "                        foundSpaces[y+1][x] = True\n",
    "                        steps[y+1][x] = steps[y][x] + 1\n",
    "    if foundSpaces[goal[1]][goal[0]]:\n",
    "        found=True\n",
    "print(steps[goal[1]][goal[0]])"
   ]
  },
  {
   "cell_type": "code",
   "execution_count": null,
   "id": "2dc09b83",
   "metadata": {},
   "outputs": [],
   "source": []
  },
  {
   "cell_type": "code",
   "execution_count": null,
   "id": "4bda6f0e",
   "metadata": {},
   "outputs": [],
   "source": []
  }
 ],
 "metadata": {
  "kernelspec": {
   "display_name": "Python 3 (ipykernel)",
   "language": "python",
   "name": "python3"
  },
  "language_info": {
   "codemirror_mode": {
    "name": "ipython",
    "version": 3
   },
   "file_extension": ".py",
   "mimetype": "text/x-python",
   "name": "python",
   "nbconvert_exporter": "python",
   "pygments_lexer": "ipython3",
   "version": "3.10.8"
  }
 },
 "nbformat": 4,
 "nbformat_minor": 5
}
