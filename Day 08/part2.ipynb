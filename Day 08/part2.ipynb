{
 "cells": [
  {
   "cell_type": "code",
   "execution_count": 1,
   "id": "c2517765",
   "metadata": {},
   "outputs": [
    {
     "name": "stdout",
     "output_type": "stream",
     "text": [
      "[[3, 0, 3, 7, 3], [2, 5, 5, 1, 2], [6, 5, 3, 3, 2], [3, 3, 5, 4, 9], [3, 5, 3, 9, 0]]\n"
     ]
    }
   ],
   "source": [
    "array = []\n",
    "\n",
    "with open(\"testInput.txt\", 'r') as file:\n",
    "    array = [[int(m) for m in n.replace(\"\\n\",\"\")] for n in file.readlines()]\n",
    "\n",
    "print(array)"
   ]
  },
  {
   "cell_type": "code",
   "execution_count": 20,
   "id": "929f0ed0",
   "metadata": {},
   "outputs": [],
   "source": []
  },
  {
   "cell_type": "code",
   "execution_count": 3,
   "id": "3b6b4762",
   "metadata": {},
   "outputs": [
    {
     "ename": "NameError",
     "evalue": "name 'y2' is not defined",
     "output_type": "error",
     "traceback": [
      "\u001b[0;31m---------------------------------------------------------------------------\u001b[0m",
      "\u001b[0;31mNameError\u001b[0m                                 Traceback (most recent call last)",
      "Cell \u001b[0;32mIn[3], line 9\u001b[0m\n\u001b[1;32m      7\u001b[0m     \u001b[38;5;28;01mif\u001b[39;00m array[x][y2] \u001b[38;5;241m>\u001b[39m\u001b[38;5;241m=\u001b[39m centerHeight:\n\u001b[1;32m      8\u001b[0m         \u001b[38;5;28;01mbreak\u001b[39;00m\n\u001b[0;32m----> 9\u001b[0m scenicValue \u001b[38;5;241m*\u001b[39m\u001b[38;5;241m=\u001b[39m y \u001b[38;5;241m-\u001b[39m \u001b[43my2\u001b[49m\n\u001b[1;32m     11\u001b[0m \u001b[38;5;28;01mfor\u001b[39;00m y2 \u001b[38;5;129;01min\u001b[39;00m \u001b[38;5;28mrange\u001b[39m(y\u001b[38;5;241m+\u001b[39m\u001b[38;5;241m1\u001b[39m,\u001b[38;5;28mlen\u001b[39m(array[x]),\u001b[38;5;241m1\u001b[39m):\n\u001b[1;32m     12\u001b[0m     \u001b[38;5;28;01mif\u001b[39;00m array[x][y2] \u001b[38;5;241m>\u001b[39m\u001b[38;5;241m=\u001b[39m centerHeight:\n",
      "\u001b[0;31mNameError\u001b[0m: name 'y2' is not defined"
     ]
    }
   ],
   "source": [
    "maxScenicScore = 0\n",
    "for x in range(len(array)):\n",
    "    for y in range(len(array[x])):\n",
    "        scenicValue = 1\n",
    "        centerHeight = array[x][y]\n",
    "        \n",
    "        found = False\n",
    "        for y2 in range(y-1,0,-1):\n",
    "            if array[x][y2] >= centerHeight:\n",
    "                scenicValue *= y - y2\n",
    "                found = True\n",
    "                break\n",
    "        if not found:\n",
    "            scenicValue *= y\n",
    "        \n",
    "        found = False\n",
    "        for y2 in range(y+1,len(array[x]),1):\n",
    "            if array[x][y2] >= centerHeight:\n",
    "                scenicValue *= y2 - y\n",
    "                found = True\n",
    "                break\n",
    "        if not found:\n",
    "            scenicValue *= len(array[x])-y-1\n",
    "        \n",
    "        found = False\n",
    "        for x2 in range(x-1,0,-1):\n",
    "            if array[x2][y] >= centerHeight:\n",
    "                scenicValue *= x - x2\n",
    "                found = True\n",
    "                break\n",
    "        if not found:\n",
    "            scenicValue *= x\n",
    "        \n",
    "        found = False\n",
    "        for x2 in range(x+1,len(array),1):\n",
    "            if array[x2][y] >= centerHeight:\n",
    "                scenicValue *= x2 - x\n",
    "                found = True\n",
    "                break\n",
    "        if not found:\n",
    "            scenicValue *= len(array)-y-1\n",
    "        \n",
    "        if scenicValue > maxScenicScore:\n",
    "            maxScenicScore = scenicValue\n",
    "    \n",
    "print(maxScenicScore)\n",
    "\n"
   ]
  },
  {
   "cell_type": "code",
   "execution_count": 4,
   "id": "d664f8ab",
   "metadata": {},
   "outputs": [
    {
     "name": "stdout",
     "output_type": "stream",
     "text": [
      "1391690\n"
     ]
    }
   ],
   "source": []
  },
  {
   "cell_type": "code",
   "execution_count": null,
   "id": "3e709e13",
   "metadata": {},
   "outputs": [],
   "source": []
  },
  {
   "cell_type": "code",
   "execution_count": null,
   "id": "952088b9",
   "metadata": {},
   "outputs": [],
   "source": []
  },
  {
   "cell_type": "code",
   "execution_count": null,
   "id": "3f8b96ca",
   "metadata": {},
   "outputs": [],
   "source": []
  }
 ],
 "metadata": {
  "kernelspec": {
   "display_name": "Python 3 (ipykernel)",
   "language": "python",
   "name": "python3"
  },
  "language_info": {
   "codemirror_mode": {
    "name": "ipython",
    "version": 3
   },
   "file_extension": ".py",
   "mimetype": "text/x-python",
   "name": "python",
   "nbconvert_exporter": "python",
   "pygments_lexer": "ipython3",
   "version": "3.10.8"
  }
 },
 "nbformat": 4,
 "nbformat_minor": 5
}
