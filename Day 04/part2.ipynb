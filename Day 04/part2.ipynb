{
 "cells": [
  {
   "cell_type": "code",
   "execution_count": 3,
   "id": "cc7620ce",
   "metadata": {},
   "outputs": [],
   "source": [
    "array = []\n",
    "\n",
    "with open(\"input.txt\", 'r') as file:\n",
    "    array = file.readlines()"
   ]
  },
  {
   "cell_type": "code",
   "execution_count": 4,
   "id": "0b8a418e",
   "metadata": {},
   "outputs": [
    {
     "name": "stdout",
     "output_type": "stream",
     "text": [
      "1000\n"
     ]
    }
   ],
   "source": [
    "print(len(array))"
   ]
  },
  {
   "cell_type": "code",
   "execution_count": 5,
   "id": "7f576615",
   "metadata": {},
   "outputs": [
    {
     "name": "stdout",
     "output_type": "stream",
     "text": [
      "859\n"
     ]
    }
   ],
   "source": [
    "contained = 0\n",
    "\n",
    "for line in array:\n",
    "    parts = line[0:-1].split(',')\n",
    "    elf1 = [int(x) for x in parts[0].split('-')]\n",
    "    elf2 = [int(x) for x in parts[1].split('-')]\n",
    "    \n",
    "    if elf1[0] <= elf2[1] and elf2[0] <= elf1[1]:\n",
    "        contained += 1\n",
    "\n",
    "print(contained)"
   ]
  }
 ],
 "metadata": {
  "kernelspec": {
   "display_name": "Python 3 (ipykernel)",
   "language": "python",
   "name": "python3"
  },
  "language_info": {
   "codemirror_mode": {
    "name": "ipython",
    "version": 3
   },
   "file_extension": ".py",
   "mimetype": "text/x-python",
   "name": "python",
   "nbconvert_exporter": "python",
   "pygments_lexer": "ipython3",
   "version": "3.10.8"
  }
 },
 "nbformat": 4,
 "nbformat_minor": 5
}
